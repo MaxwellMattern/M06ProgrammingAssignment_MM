{
 "cells": [
  {
   "cell_type": "code",
   "execution_count": 4,
   "id": "593dcf6d",
   "metadata": {},
   "outputs": [
    {
     "name": "stdout",
     "output_type": "stream",
     "text": [
      "Mon Dec  5 18:20:45 2022\n",
      "0.126556396484375\n"
     ]
    }
   ],
   "source": [
    "# Max Mattern\n",
    "# SDEV220 Fall 2022\n",
    "# M06 Programming Assignment\n",
    "# 12/05/22\n",
    "\n",
    "# 13.1 Write the current date as a string to the text file today.txt.\n",
    "\n",
    "import time\n",
    "now = time.time()\n",
    "wtf = time.ctime(now)\n",
    "f = open('today.txt','w')\n",
    "f.write(wtf)\n",
    "f.close()\n",
    "\n",
    "\n",
    "# 13.2 Read the text file today.txt into the string today_string.\n",
    "f = open('today.txt',)\n",
    "today_string = f.read()\n",
    "time.strftime(today_string)\n",
    "print(today_string)\n",
    "f.close()\n",
    "\n",
    "\n",
    "# 13.3 Parse the date from today_string.\n",
    "time.strptime(today_string)\n",
    "\n",
    "\n",
    "# 15.1 Use multiprocessing to create three separate processes.\n",
    "# Make each one wait a random number of seconds between zero and one, print\n",
    "# the current time, and then exit.\n",
    "\n",
    "import multiprocessing as mp\n",
    "\n",
    "def tc():\n",
    "    rd = random.randint(0,1)\n",
    "    time.sleep(rd)\n",
    "    print(datetime.datetime.now())\n",
    "\n",
    "start = time.time()\n",
    "\n",
    "p1 = mp.Process(target=tc)\n",
    "p2 = mp.Process(target=tc)\n",
    "p3 = mp.Process(target=tc)\n",
    "\n",
    "p1.start()\n",
    "p2.start()\n",
    "p3.start()\n",
    "\n",
    "p1.join()\n",
    "p2.join()\n",
    "p3.join()\n",
    "\n",
    "end = time.time()\n",
    "\n",
    "print(str(end-start))\n",
    "\n",
    "\n",
    "\n"
   ]
  },
  {
   "cell_type": "code",
   "execution_count": null,
   "id": "efe418c4",
   "metadata": {},
   "outputs": [],
   "source": []
  }
 ],
 "metadata": {
  "kernelspec": {
   "display_name": "Python 3 (ipykernel)",
   "language": "python",
   "name": "python3"
  },
  "language_info": {
   "codemirror_mode": {
    "name": "ipython",
    "version": 3
   },
   "file_extension": ".py",
   "mimetype": "text/x-python",
   "name": "python",
   "nbconvert_exporter": "python",
   "pygments_lexer": "ipython3",
   "version": "3.9.13"
  }
 },
 "nbformat": 4,
 "nbformat_minor": 5
}
